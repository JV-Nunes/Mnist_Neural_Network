{
 "cells": [
  {
   "cell_type": "markdown",
   "metadata": {},
   "source": [
    "# TRABALHO\n",
    "\n",
    "### Alunos: Gabriel Oliveira Gonçalves & João Victor Nunes\n",
    "\n"
   ]
  },
  {
   "cell_type": "code",
   "execution_count": 11,
   "metadata": {},
   "outputs": [],
   "source": [
    "import numpy as np\n",
    "from keras.models import Sequential\n",
    "from keras.layers import Dense\n",
    "from keras.wrappers.scikit_learn import KerasClassifier\n",
    "from keras.utils import np_utils\n",
    "from keras import optimizers\n",
    "\n",
    "from sklearn import model_selection\n",
    "from sklearn.model_selection import cross_val_score\n",
    "from sklearn.preprocessing import LabelEncoder\n",
    "from sklearn.model_selection import StratifiedKFold\n",
    "from sklearn.preprocessing import StandardScaler\n",
    "from sklearn.pipeline import Pipeline\n",
    "from sklearn.metrics import accuracy_score\n",
    "\n",
    "from matplotlib import pyplot\n",
    "from matplotlib.image import imread\n",
    "\n",
    "from os import listdir\n",
    "from os import makedirs\n",
    "from numpy import asarray\n",
    "from numpy import save\n",
    "from keras.preprocessing.image import load_img\n",
    "from keras.preprocessing.image import img_to_array"
   ]
  },
  {
   "cell_type": "code",
   "execution_count": 12,
   "metadata": {},
   "outputs": [],
   "source": [
    "folder='/Users/jv-nu/Aulas Gustavo/mnist/' #caso queira, inserir o path correto da sua máquina"
   ]
  },
  {
   "cell_type": "markdown",
   "metadata": {},
   "source": [
    "### Realizando a Classificação dos dados"
   ]
  },
  {
   "cell_type": "code",
   "execution_count": 13,
   "metadata": {
    "scrolled": true
   },
   "outputs": [],
   "source": [
    "photos, labels = [],[]\n",
    "for file in listdir(folder):\n",
    "    if file.startswith('[0. 0. 0. 0. 0. 0. 0. 0. 0. 1.]'):\n",
    "        output = \"nove\"\n",
    "    elif file.startswith('[0. 0. 0. 0. 0. 0. 0. 0. 1. 0.]'):\n",
    "        output=\"oito\"\n",
    "    elif file.startswith('[0. 0. 0. 0. 0. 0. 0. 1. 0. 0.]'):\n",
    "        output=\"sete\"\n",
    "    elif file.startswith('[0. 0. 0. 0. 0. 0. 1. 0. 0. 0.]'):\n",
    "        output=\"seis\"\n",
    "    elif file.startswith('[0. 0. 0. 0. 0. 1. 0. 0. 0. 0.]'):\n",
    "        output=\"cinco\"\n",
    "    elif file.startswith('[0. 0. 0. 0. 1. 0. 0. 0. 0. 0.]'):\n",
    "        output=\"quatro\"\n",
    "    elif file.startswith('[0. 0. 0. 1. 0. 0. 0. 0. 0. 0.]'):\n",
    "        output=\"três\"\n",
    "    elif file.startswith('[0. 0. 1. 0. 0. 0. 0. 0. 0. 0.]'):\n",
    "        output=\"dois\"\n",
    "    elif file.startswith('[0. 1. 0. 0. 0. 0. 0. 0. 0. 0.]'):\n",
    "        output=\"um\"\n",
    "    elif file.startswith('[1. 0. 0. 0. 0. 0. 0. 0. 0. 0.]'):\n",
    "        output=\"zero\"\n",
    "    elif file.startswith('9'):\n",
    "        output= \"nove\"\n",
    "    elif file.startswith('8'):\n",
    "        output= \"oito\"\n",
    "    elif file.startswith('7'):\n",
    "        output= \"sete\"\n",
    "    elif file.startswith('6'):\n",
    "        output= \"seis\"\n",
    "    elif file.startswith('5'):\n",
    "        output= \"cinco\"\n",
    "    elif file.startswith('4'):\n",
    "        output= \"quatro\"\n",
    "    elif file.startswith('3'):\n",
    "        output= \"três\"\n",
    "    elif file.startswith('2'):\n",
    "        output= \"dois\"\n",
    "    elif file.startswith('1'):\n",
    "        output= \"um\"\n",
    "    elif file.startswith('0'):\n",
    "        output= \"zero\"\n",
    "    photo = load_img(folder+file)\n",
    "    photo = img_to_array(photo)\n",
    "    photos.append(photo)\n",
    "    labels.append(output)"
   ]
  },
  {
   "cell_type": "code",
   "execution_count": 14,
   "metadata": {},
   "outputs": [],
   "source": [
    "photos = asarray(photos)\n",
    "labels = asarray(labels)"
   ]
  },
  {
   "cell_type": "markdown",
   "metadata": {},
   "source": [
    "### Separando em \\test e \\train"
   ]
  },
  {
   "cell_type": "code",
   "execution_count": 15,
   "metadata": {},
   "outputs": [],
   "source": [
    "from os import makedirs\n",
    "dataset_home = 'mnist/'\n",
    "subdirs = ['test/', 'train/']\n",
    "for subdir in subdirs:\n",
    "    labeldirs = ['nove/', 'oito/','sete/','seis/','cinco/','quatro/','três/','dois/','um/','zero/']\n",
    "    for labldir in labeldirs:\n",
    "        newdir = dataset_home + subdir + labldir\n",
    "        makedirs(newdir, exist_ok=True)"
   ]
  },
  {
   "cell_type": "code",
   "execution_count": 16,
   "metadata": {},
   "outputs": [],
   "source": [
    "from shutil import copyfile\n",
    "from random import seed\n",
    "from random import random\n",
    "\n",
    "seed(1)\n",
    "val_ratio = 0.25\n",
    "\n",
    "for file in listdir(folder):\n",
    "    src = folder + file\n",
    "    dst_dir = 'train/'\n",
    "    if random() < val_ratio:\n",
    "        dst_dir = 'test/'\n",
    "        \n",
    "    if file.startswith('[0. 0. 0. 0. 0. 0. 0. 0. 0. 1.]'):\n",
    "        dst = dataset_home + dst_dir + 'nove/'  + file\n",
    "        copyfile(src, dst)\n",
    "    elif file.startswith('[0. 0. 0. 0. 0. 0. 0. 0. 1. 0.]'):\n",
    "        dst = dataset_home + dst_dir + 'oito/'  + file\n",
    "        copyfile(src, dst)\n",
    "    elif file.startswith('[0. 0. 0. 0. 0. 0. 0. 1. 0. 0.]'):\n",
    "        dst = dataset_home + dst_dir + 'sete/'  + file\n",
    "        copyfile(src, dst)\n",
    "    elif file.startswith('[0. 0. 0. 0. 0. 0. 1. 0. 0. 0.]'):\n",
    "        dst = dataset_home + dst_dir + 'seis/'  + file\n",
    "        copyfile(src, dst)\n",
    "    elif file.startswith('[0. 0. 0. 0. 0. 1. 0. 0. 0. 0.]'):\n",
    "        dst = dataset_home + dst_dir + 'cinco/'  + file\n",
    "        copyfile(src, dst)\n",
    "    elif file.startswith('[0. 0. 0. 0. 1. 0. 0. 0. 0. 0.]'):\n",
    "        dst = dataset_home + dst_dir + 'quatro/'  + file\n",
    "        copyfile(src, dst)\n",
    "    elif file.startswith('[0. 0. 0. 1. 0. 0. 0. 0. 0. 0.]'):\n",
    "        dst = dataset_home + dst_dir + 'três/'  + file\n",
    "        copyfile(src, dst)\n",
    "    elif file.startswith('[0. 0. 1. 0. 0. 0. 0. 0. 0. 0.]'):\n",
    "        dst = dataset_home + dst_dir + 'dois/'  + file\n",
    "        copyfile(src, dst)\n",
    "    elif file.startswith('[0. 1. 0. 0. 0. 0. 0. 0. 0. 0.]'):\n",
    "        dst = dataset_home + dst_dir + 'um/'  + file\n",
    "        copyfile(src, dst)\n",
    "    elif file.startswith('[1. 0. 0. 0. 0. 0. 0. 0. 0. 0.]'):\n",
    "        dst = dataset_home + dst_dir + 'zero/'  + file\n",
    "        copyfile(src, dst)\n",
    "    elif file.startswith('9'):\n",
    "        dst = dataset_home + dst_dir + 'nove/'  + file\n",
    "        copyfile(src, dst)\n",
    "    elif file.startswith('8'):\n",
    "        dst = dataset_home + dst_dir + 'oito/'  + file\n",
    "        copyfile(src, dst)\n",
    "    elif file.startswith('7'):\n",
    "        dst = dataset_home + dst_dir + 'sete/'  + file\n",
    "        copyfile(src, dst)\n",
    "    elif file.startswith('6'):\n",
    "        dst = dataset_home + dst_dir + 'seis/'  + file\n",
    "        copyfile(src, dst)\n",
    "    elif file.startswith('5'):\n",
    "        dst = dataset_home + dst_dir + 'cinco/'  + file\n",
    "        copyfile(src, dst)\n",
    "    elif file.startswith('4'):\n",
    "        dst = dataset_home + dst_dir + 'quatro/'  + file\n",
    "        copyfile(src, dst)\n",
    "    elif file.startswith('3'):\n",
    "        dst = dataset_home + dst_dir + 'três/'  + file\n",
    "        copyfile(src, dst)\n",
    "    elif file.startswith('2'):\n",
    "        dst = dataset_home + dst_dir + 'dois/'  + file\n",
    "        copyfile(src, dst)\n",
    "    elif file.startswith('1'):\n",
    "        dst = dataset_home + dst_dir + 'um/'  + file\n",
    "        copyfile(src, dst)\n",
    "    elif file.startswith('0'):\n",
    "        dst = dataset_home + dst_dir + 'zero/' + file\n",
    "        copyfile(src, dst)"
   ]
  },
  {
   "cell_type": "code",
   "execution_count": null,
   "metadata": {},
   "outputs": [],
   "source": []
  },
  {
   "cell_type": "markdown",
   "metadata": {},
   "source": [
    "### Criação do Modelo"
   ]
  },
  {
   "cell_type": "code",
   "execution_count": 17,
   "metadata": {},
   "outputs": [],
   "source": [
    "import sys\n",
    "from matplotlib import pyplot\n",
    "from keras.utils import to_categorical\n",
    "from keras.models import Sequential\n",
    "from keras.layers import Conv2D\n",
    "from keras.layers import MaxPooling2D\n",
    "from keras.layers import Dense\n",
    "from keras.layers import Flatten\n",
    "from keras.optimizers import SGD\n",
    "from keras.preprocessing.image import ImageDataGenerator"
   ]
  },
  {
   "cell_type": "code",
   "execution_count": 78,
   "metadata": {},
   "outputs": [],
   "source": [
    "def JOA_GAB():\n",
    "    model = Sequential()\n",
    "    model.add(Conv2D(32, (3, 3), activation='relu', kernel_initializer='normal', padding='same', input_shape=(28, 28, 3)))\n",
    "    model.add(MaxPooling2D((2, 2)))\n",
    "    model.add(Flatten(input_shape=(28, 28)))\n",
    "    model.add(Dense(128, activation='relu', kernel_initializer='normal'))\n",
    "    model.add(Dense(10, activation='softmax'))\n",
    "    # compile model\n",
    "    opt = SGD(lr=0.001, momentum=0.9)\n",
    "    model.compile(optimizer='adam', loss='sparse_categorical_crossentropy', metrics=['accuracy'])\n",
    "    return model"
   ]
  },
  {
   "cell_type": "code",
   "execution_count": 79,
   "metadata": {},
   "outputs": [],
   "source": [
    "def run_test_harness():\n",
    "\n",
    "    model = JOA_GAB()\n",
    "    datagen = ImageDataGenerator(rescale=None)\n",
    "    train_it = datagen.flow_from_directory('mnist/train/', class_mode='binary', batch_size=64, target_size=(28, 28))\n",
    "    test_it = datagen.flow_from_directory('mnist/test/', class_mode='binary', batch_size=64, target_size=(28, 28))\n",
    "    history = model.fit(train_it, steps_per_epoch=len(train_it), validation_data=test_it, validation_steps=len(test_it), epochs=3, verbose=1)\n",
    "    model.save('final_model.pkl')"
   ]
  },
  {
   "cell_type": "markdown",
   "metadata": {},
   "source": [
    "kernel_initializer='normal'\n",
    "Na última camada utilizem: activation='softmax', já que temos um problema de multicategorias.\n",
    "Na hora de compilar o modelo utilizem: loss='categorical_crossentropy', já que temos um problema de multicategorias. Testem, também o otimizador: optimizer='adam'.¶"
   ]
  },
  {
   "cell_type": "code",
   "execution_count": 80,
   "metadata": {},
   "outputs": [
    {
     "name": "stdout",
     "output_type": "stream",
     "text": [
      "Found 52452 images belonging to 10 classes.\n",
      "Found 17548 images belonging to 10 classes.\n",
      "Epoch 1/3\n",
      "820/820 [==============================] - 1027s 1s/step - loss: 4.5994 - accuracy: 0.8544 - val_loss: 0.1457 - val_accuracy: 0.9603\n",
      "Epoch 2/3\n",
      "820/820 [==============================] - 36s 44ms/step - loss: 0.0927 - accuracy: 0.9715 - val_loss: 0.1204 - val_accuracy: 0.9703\n",
      "Epoch 3/3\n",
      "820/820 [==============================] - 36s 44ms/step - loss: 0.0521 - accuracy: 0.9845 - val_loss: 0.1125 - val_accuracy: 0.9703\n",
      "INFO:tensorflow:Assets written to: final_model.pkl\\assets\n"
     ]
    }
   ],
   "source": [
    "run_test_harness()"
   ]
  },
  {
   "cell_type": "markdown",
   "metadata": {},
   "source": [
    "### Modelo finalizado, acurácia de 97,03% na identificação das imagens"
   ]
  },
  {
   "cell_type": "code",
   "execution_count": null,
   "metadata": {},
   "outputs": [],
   "source": []
  }
 ],
 "metadata": {
  "kernelspec": {
   "display_name": "Python 3",
   "language": "python",
   "name": "python3"
  },
  "language_info": {
   "codemirror_mode": {
    "name": "ipython",
    "version": 3
   },
   "file_extension": ".py",
   "mimetype": "text/x-python",
   "name": "python",
   "nbconvert_exporter": "python",
   "pygments_lexer": "ipython3",
   "version": "3.8.5"
  }
 },
 "nbformat": 4,
 "nbformat_minor": 5
}
